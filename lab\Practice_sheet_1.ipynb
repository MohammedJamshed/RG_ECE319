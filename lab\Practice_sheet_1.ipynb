{
  "nbformat": 4,
  "nbformat_minor": 0,
  "metadata": {
    "colab": {
      "name": "Practice sheet 1.ipynb",
      "provenance": [],
      "collapsed_sections": [],
      "authorship_tag": "ABX9TyMBfrWb1U01zAWAhl7EWuRk",
      "include_colab_link": true
    },
    "kernelspec": {
      "name": "python3",
      "display_name": "Python 3"
    }
  },
  "cells": [
    {
      "cell_type": "markdown",
      "metadata": {
        "id": "view-in-github",
        "colab_type": "text"
      },
      "source": [
        "<a href=\"https://colab.research.google.com/github/RinkiGupta/RG_ECE319/blob/main/lab%5CPractice_sheet_1.ipynb\" target=\"_parent\"><img src=\"https://colab.research.google.com/assets/colab-badge.svg\" alt=\"Open In Colab\"/></a>"
      ]
    },
    {
      "cell_type": "markdown",
      "metadata": {
        "id": "ZiEGz5iVYlt4"
      },
      "source": [
        "# Practice Syntax\r\n",
        "\r\n",
        "The input() function exepts input from user.\r\n",
        "Syntax:\r\n",
        "\r\n",
        "\r\n",
        "```\r\n",
        "x = input(prompt)\r\n",
        "```\r\n",
        "where *prompt* is\ta String, representing a default message before the input.\r\n",
        "\r\n",
        "User input will be stores in *x*\r\n",
        "\r\n",
        "\r\n",
        "\r\n",
        "*   When input() function executes program flow will be stopped until the user has given an input.\r\n",
        "*   Whatever you enter as input, input() function converts it into a string. if you enter an integer value still input() function convert it into a string. You need to explicitly convert it into an integer in your code using typecasting.\r\n",
        "\r\n",
        "\r\n"
      ]
    },
    {
      "cell_type": "code",
      "metadata": {
        "colab": {
          "base_uri": "https://localhost:8080/"
        },
        "id": "R1X0xoKqYhEo",
        "outputId": "4ec699fb-b476-440d-f2c3-ca8bf72906d5"
      },
      "source": [
        "var0 = input('Enter a Value: ')\r\n",
        "print(var0,type(var0))"
      ],
      "execution_count": 1,
      "outputs": [
        {
          "output_type": "stream",
          "text": [
            "Enter a Value: 10\n",
            "10 <class 'str'>\n"
          ],
          "name": "stdout"
        }
      ]
    },
    {
      "cell_type": "code",
      "metadata": {
        "colab": {
          "base_uri": "https://localhost:8080/"
        },
        "id": "T9D6HWoqaImX",
        "outputId": "097cf7a6-17b8-4299-d576-22787a8ea4a8"
      },
      "source": [
        "var2 = int(input('Enter a Value: ')) #typecasting\r\n",
        "print(var2,type(var2))"
      ],
      "execution_count": 3,
      "outputs": [
        {
          "output_type": "stream",
          "text": [
            "Enter a Value: 10\n",
            "10 <class 'int'>\n"
          ],
          "name": "stdout"
        }
      ]
    },
    {
      "cell_type": "markdown",
      "metadata": {
        "id": "eYzXf1YMz1TC"
      },
      "source": [
        "# Practice Problem 1"
      ]
    },
    {
      "cell_type": "markdown",
      "metadata": {
        "id": "HyRb8Shqy7z5"
      },
      "source": [
        "Write a Python program which accepts the user's first and last name and prints them in reverse order with a space between them.\r\n",
        "\r\n",
        "Eg: Gupta Rinki"
      ]
    },
    {
      "cell_type": "code",
      "metadata": {
        "id": "FAMKj434y8a_"
      },
      "source": [
        ""
      ],
      "execution_count": null,
      "outputs": []
    },
    {
      "cell_type": "markdown",
      "metadata": {
        "id": "07heeZZZz5a7"
      },
      "source": [
        "# Practice Problem 2"
      ]
    },
    {
      "cell_type": "markdown",
      "metadata": {
        "id": "EiRuHvsozNwG"
      },
      "source": [
        "Write a Python program to calculate midpoint of a line. The line is specified between two points (x1, y1) and (x2, y2), to be taken as input from user. "
      ]
    },
    {
      "cell_type": "code",
      "metadata": {
        "id": "GIWGe7xfzOTt"
      },
      "source": [
        ""
      ],
      "execution_count": null,
      "outputs": []
    },
    {
      "cell_type": "markdown",
      "metadata": {
        "id": "A-nqMGoez7fQ"
      },
      "source": [
        "# Practice Problem 3"
      ]
    },
    {
      "cell_type": "markdown",
      "metadata": {
        "id": "iFyDoyPAzcaO"
      },
      "source": [
        "Write a Python program that will accept the base and height of a triangle and compute the area."
      ]
    },
    {
      "cell_type": "code",
      "metadata": {
        "id": "ydM6b_t0zw0l"
      },
      "source": [
        ""
      ],
      "execution_count": null,
      "outputs": []
    },
    {
      "cell_type": "markdown",
      "metadata": {
        "id": "4q4h-SS0z9Ao"
      },
      "source": [
        "# Practice Problem 4"
      ]
    },
    {
      "cell_type": "markdown",
      "metadata": {
        "id": "cWcywcJfyNkT"
      },
      "source": [
        "Try these questions and determine the correct answers:\r\n",
        "\r\n",
        "\r\n",
        "\r\n",
        "1.   Which of the following syntax would print 20.10.2020?\\\r\n",
        "print('20'+'10'+'2020', end='.')\\\r\n",
        "print('20'+'10'+'2020', sep='.')\\\r\n",
        "print('20','10','2020', end='.')\\\r\n",
        "print('20','10','2020', sep='.')\r\n",
        "\r\n",
        "2.   Which statement will result into an error\\\r\n",
        "False = 0\\\r\n",
        "true = '0'\\\r\n",
        "false = True\\\r\n",
        "true = False\r\n",
        "3.   Will the command print=12 lead to an error?\\\r\n",
        "True\\\r\n",
        "False\r\n"
      ]
    },
    {
      "cell_type": "code",
      "metadata": {
        "id": "5t5unwCD1fKq"
      },
      "source": [
        ""
      ],
      "execution_count": 5,
      "outputs": []
    }
  ]
}