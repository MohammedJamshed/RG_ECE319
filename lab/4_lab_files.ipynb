{
  "nbformat": 4,
  "nbformat_minor": 0,
  "metadata": {
    "kernelspec": {
      "display_name": "Python 3",
      "language": "python",
      "name": "python3"
    },
    "language_info": {
      "codemirror_mode": {
        "name": "ipython",
        "version": 3
      },
      "file_extension": ".py",
      "mimetype": "text/x-python",
      "name": "python",
      "nbconvert_exporter": "python",
      "pygments_lexer": "ipython3",
      "version": "3.6.4"
    },
    "colab": {
      "name": "4_lab_files.ipynb",
      "provenance": [],
      "collapsed_sections": [],
      "include_colab_link": true
    }
  },
  "cells": [
    {
      "cell_type": "markdown",
      "metadata": {
        "id": "view-in-github",
        "colab_type": "text"
      },
      "source": [
        "<a href=\"https://colab.research.google.com/github/RinkiGupta/RG_ECE319/blob/main/lab/4_lab_files.ipynb\" target=\"_parent\"><img src=\"https://colab.research.google.com/assets/colab-badge.svg\" alt=\"Open In Colab\"/></a>"
      ]
    },
    {
      "cell_type": "markdown",
      "metadata": {
        "id": "wFWExXRzuAaG"
      },
      "source": [
        "# Experiment 4"
      ]
    },
    {
      "cell_type": "markdown",
      "metadata": {
        "id": "U2RX-2Vkt3ww"
      },
      "source": [
        "## AIM\n",
        "\n",
        "Write a Python program\n",
        "\n",
        "*   Create two new files f1 and f2\n",
        "*   Read and Display the contents of files f1 and f2\n",
        "*   Count the number of lines in f1.\n",
        "*   Create and display the file f3 which is a combination of f1 and f2."
      ]
    },
    {
      "cell_type": "markdown",
      "metadata": {
        "id": "5_WuD9MZuEEJ"
      },
      "source": [
        "## Description\n",
        "\n",
        "\n",
        "Functions used"
      ]
    },
    {
      "cell_type": "markdown",
      "metadata": {
        "id": "tH9ZmmCtuOW2"
      },
      "source": [
        "## Program"
      ]
    },
    {
      "cell_type": "code",
      "metadata": {
        "id": "ednc7w9ihwsk"
      },
      "source": [
        "lst1 = ['Aug','Sep','Oct','Nov','Sep','Jul','Aug','Sep']\r\n",
        "lst2 = [1,2,3,4, 2,4,4,1]"
      ],
      "execution_count": null,
      "outputs": []
    },
    {
      "cell_type": "code",
      "metadata": {
        "id": "xrZfMCBitpk7"
      },
      "source": [
        "# Write list lst1 into file file1.txt and \n"
      ],
      "execution_count": null,
      "outputs": []
    },
    {
      "cell_type": "code",
      "metadata": {
        "id": "X49RVmuNh5v_"
      },
      "source": [
        "# Write list lst2 into file file2.txt\r\n"
      ],
      "execution_count": null,
      "outputs": []
    },
    {
      "cell_type": "code",
      "metadata": {
        "id": "a2UzLpeYiAff"
      },
      "source": [
        "# deleting lst1 and lst2\r\n",
        "del lst1, lst2"
      ],
      "execution_count": null,
      "outputs": []
    },
    {
      "cell_type": "code",
      "metadata": {
        "id": "L5JBpvTFtwcq",
        "colab": {
          "base_uri": "https://localhost:8080/"
        },
        "outputId": "822ea124-efae-4a29-d4c8-81bf53e5070a"
      },
      "source": [
        "# Read contents of file1.txt and display them\n",
        "\n",
        "# Display the number of lines in file1\n"
      ],
      "execution_count": null,
      "outputs": [
        {
          "output_type": "stream",
          "text": [
            "Contents of file1.txt:\n",
            "Aug\n",
            "Sep\n",
            "Oct\n",
            "Nov\n",
            "Sep\n",
            "Jul\n",
            "Aug\n",
            "Sep\n",
            "Number of lines in file1.txt: 8\n"
          ],
          "name": "stdout"
        }
      ]
    },
    {
      "cell_type": "code",
      "metadata": {
        "id": "usHfRYE8uqvL",
        "colab": {
          "base_uri": "https://localhost:8080/"
        },
        "outputId": "84714ffb-d3f9-43d2-9a30-bcdeb4336d69"
      },
      "source": [
        "# Read contents of file2.txt and display them\n",
        "\n",
        "# Display the number of lines in file2\n"
      ],
      "execution_count": null,
      "outputs": [
        {
          "output_type": "stream",
          "text": [
            "Contents of file2.txt:\n",
            "1\n",
            "2\n",
            "3\n",
            "4\n",
            "2\n",
            "4\n",
            "4\n",
            "1\n",
            "Number of lines in file2.txt: 8\n"
          ],
          "name": "stdout"
        }
      ]
    },
    {
      "cell_type": "code",
      "metadata": {
        "id": "3-sSwNr_vb8_",
        "colab": {
          "base_uri": "https://localhost:8080/"
        },
        "outputId": "5c4956a5-a7b4-4326-8935-5f7bf1fb2497"
      },
      "source": [
        "# Create a file3.txt, which is a combination of file1.txt and file2.txt\n",
        "\n",
        "\n",
        "# Display contents of file3.txt\n"
      ],
      "execution_count": null,
      "outputs": [
        {
          "output_type": "stream",
          "text": [
            "Contents of file3.txt:\n",
            "1 Aug 2020\n",
            "2 Sep 2020\n",
            "3 Oct 2020\n",
            "4 Nov 2020\n",
            "2 Sep 2020\n",
            "4 Jul 2020\n",
            "4 Aug 2020\n",
            "1 Sep 2020\n",
            "\n"
          ],
          "name": "stdout"
        }
      ]
    },
    {
      "cell_type": "code",
      "metadata": {
        "id": "4iDRGLBOxJbz",
        "colab": {
          "base_uri": "https://localhost:8080/"
        },
        "outputId": "1e9fbb6b-af4c-425b-9538-9115b5daa566"
      },
      "source": [
        "# Create a file4.txt, which is a combination of file1.txt and file2.txt\n",
        "\n",
        "\n",
        "# Display contents of file4.txt\n"
      ],
      "execution_count": null,
      "outputs": [
        {
          "output_type": "stream",
          "text": [
            "Contents of file4.txt:\n",
            "Aug\n",
            "Sep\n",
            "Oct\n",
            "Nov\n",
            "Sep\n",
            "Jul\n",
            "Aug\n",
            "Sep\n",
            "1\n",
            "2\n",
            "3\n",
            "4\n",
            "2\n",
            "4\n",
            "4\n",
            "1\n",
            "\n"
          ],
          "name": "stdout"
        }
      ]
    },
    {
      "cell_type": "markdown",
      "metadata": {
        "id": "tn67des4vDlL"
      },
      "source": [
        "## Conclusion\n"
      ]
    }
  ]
}