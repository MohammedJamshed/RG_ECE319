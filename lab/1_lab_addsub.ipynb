{
  "nbformat": 4,
  "nbformat_minor": 0,
  "metadata": {
    "colab": {
      "name": "1_lab_addsub.ipynb",
      "provenance": [],
      "collapsed_sections": [],
      "include_colab_link": true
    },
    "kernelspec": {
      "display_name": "Python 3",
      "language": "python",
      "name": "python3"
    },
    "language_info": {
      "codemirror_mode": {
        "name": "ipython",
        "version": 3
      },
      "file_extension": ".py",
      "mimetype": "text/x-python",
      "name": "python",
      "nbconvert_exporter": "python",
      "pygments_lexer": "ipython3",
      "version": "3.7.3"
    }
  },
  "cells": [
    {
      "cell_type": "markdown",
      "metadata": {
        "id": "view-in-github",
        "colab_type": "text"
      },
      "source": [
        "<a href=\"https://colab.research.google.com/github/RinkiGupta/RG_ECE319/blob/main/lab/1_lab_addsub.ipynb\" target=\"_parent\"><img src=\"https://colab.research.google.com/assets/colab-badge.svg\" alt=\"Open In Colab\"/></a>"
      ]
    },
    {
      "cell_type": "markdown",
      "metadata": {
        "id": "UxdNnWLAvy4n"
      },
      "source": [
        "# Experiment 1"
      ]
    },
    {
      "cell_type": "markdown",
      "metadata": {
        "id": "JQwVMKdSGDmo"
      },
      "source": [
        "## AIM \n",
        "**Write a program to read two integers and find the sum, diff, mult and div**"
      ]
    },
    {
      "cell_type": "markdown",
      "metadata": {
        "id": "OqT1A9b2GDmu"
      },
      "source": [
        "## Description\n",
        "Wrtite description here"
      ]
    },
    {
      "cell_type": "markdown",
      "metadata": {
        "id": "arFLyp8ZGDmv"
      },
      "source": [
        "## Python Code"
      ]
    },
    {
      "cell_type": "code",
      "metadata": {
        "id": "zDtQE6JvGDmv",
        "colab": {
          "base_uri": "https://localhost:8080/",
          "height": 52
        },
        "outputId": "f996177b-3899-4d6b-bf33-9bd133225949"
      },
      "source": [
        "# start your program here...\n",
        "num1 = 10\n",
        "num2 = 20\n",
        "print('Num1 = ',num1)\n",
        "print('Num2 = ',num2)"
      ],
      "execution_count": null,
      "outputs": [
        {
          "output_type": "stream",
          "text": [
            "Num1 =  10\n",
            "Num2 =  20\n"
          ],
          "name": "stdout"
        }
      ]
    },
    {
      "cell_type": "code",
      "metadata": {
        "id": "Ufb0taW99Lzr"
      },
      "source": [
        "# Start writing your program here"
      ],
      "execution_count": null,
      "outputs": []
    },
    {
      "cell_type": "markdown",
      "metadata": {
        "id": "uDEqHmX0HV_7"
      },
      "source": [
        "## Conclusion"
      ]
    },
    {
      "cell_type": "markdown",
      "metadata": {
        "id": "oHI5szujvt9c"
      },
      "source": [
        ""
      ]
    }
  ]
}