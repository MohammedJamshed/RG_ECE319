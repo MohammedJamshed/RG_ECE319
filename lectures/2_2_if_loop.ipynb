{
  "nbformat": 4,
  "nbformat_minor": 0,
  "metadata": {
    "kernelspec": {
      "display_name": "Python 3",
      "language": "python",
      "name": "python3"
    },
    "language_info": {
      "codemirror_mode": {
        "name": "ipython",
        "version": 3
      },
      "file_extension": ".py",
      "mimetype": "text/x-python",
      "name": "python",
      "nbconvert_exporter": "python",
      "pygments_lexer": "ipython3",
      "version": "3.7.3"
    },
    "colab": {
      "name": "2_2_if_loop.ipynb",
      "provenance": [],
      "collapsed_sections": [],
      "include_colab_link": true
    }
  },
  "cells": [
    {
      "cell_type": "markdown",
      "metadata": {
        "id": "view-in-github",
        "colab_type": "text"
      },
      "source": [
        "<a href=\"https://colab.research.google.com/github/RinkiGupta/RG_ECE319/blob/main/lectures/2_2_if_loop.ipynb\" target=\"_parent\"><img src=\"https://colab.research.google.com/assets/colab-badge.svg\" alt=\"Open In Colab\"/></a>"
      ]
    },
    {
      "cell_type": "markdown",
      "metadata": {
        "id": "b-8hCp_JT_2R"
      },
      "source": [
        "# Conditional Statements\n",
        "## Python Indentation\n",
        "Indentation refers to the spaces at the beginning of a code line.\n",
        "\n",
        "In Python, indentation is used to indicate a block of code."
      ]
    },
    {
      "cell_type": "code",
      "metadata": {
        "id": "hDZ9SNDxT_2U",
        "colab": {
          "base_uri": "https://localhost:8080/"
        },
        "outputId": "39b62358-2e80-45e5-e9d1-96bec9f6f26a"
      },
      "source": [
        "var='Hello'\n",
        "print(var) # no Indentation "
      ],
      "execution_count": 2,
      "outputs": [
        {
          "output_type": "stream",
          "text": [
            "Hello\n"
          ],
          "name": "stdout"
        }
      ]
    },
    {
      "cell_type": "code",
      "metadata": {
        "id": "FMkCPlXV55_d"
      },
      "source": [
        "var='Hello'\n",
        "  print(var) # unintended Indentation may create error"
      ],
      "execution_count": null,
      "outputs": []
    },
    {
      "cell_type": "markdown",
      "metadata": {
        "id": "VCU9LxesT_2f"
      },
      "source": [
        "## If Loop\n",
        "\n",
        "Used for conditional execution of a code block"
      ]
    },
    {
      "cell_type": "code",
      "metadata": {
        "id": "Yu1RLeQDT_2g"
      },
      "source": [
        "# example: if-loop\n",
        "x=input('Do you want to have some Pizza? (yes/no) ')\n",
        "if x=='yes':\n",
        "    n= input('Enter the number of slices you want to have: ')#Execute Conditionally \n",
        "    print('Bringing you', n, 'slices of Pizza')\n",
        "print('Have a Good Day!') #Execute Unconditionally \n",
        "print('Come again later!') "
      ],
      "execution_count": null,
      "outputs": []
    },
    {
      "cell_type": "markdown",
      "metadata": {
        "id": "VznirawiT_2m"
      },
      "source": [
        "## If-else\n",
        "\n",
        "code block under else is executed only when the condition controlling the execution of code block under if is False"
      ]
    },
    {
      "cell_type": "code",
      "metadata": {
        "id": "RSC1yJX-T_2p"
      },
      "source": [
        "# example: if-else loop \n",
        "x=input('Do you want to have some Pizza? (yes/no) ')\n",
        "if x=='yes':\n",
        "    n= input('Enter the number of slices you want to have: ')#Execute Conditionally \n",
        "    print('Bringing you', n, 'slices of Pizza')\n",
        "else:\n",
        "    print('Ok, come again later!') \n",
        "print('Have a Good Day!') #Execute Unconditionally "
      ],
      "execution_count": null,
      "outputs": []
    },
    {
      "cell_type": "markdown",
      "metadata": {
        "id": "b0WKuerNT_2z"
      },
      "source": [
        "## If - elif - else\n",
        "\n",
        "Conditions are checked sequentially, starting from that after if, then that after elif (and suceeding elif). If none of the conditions is true, the codeblock under else is executed."
      ]
    },
    {
      "cell_type": "code",
      "metadata": {
        "id": "3UwmhR-oT_20"
      },
      "source": [
        "# example: if-elif-else \n",
        "x=input('Do you want to have some Pizza? (yes/maybe/no) ')\n",
        "if x=='yes':\n",
        "    n= input('Enter the number of slices you want to have: ')#Execute Conditionally \n",
        "    print('Bringing you', n, 'slices of Pizza')\n",
        "elif x=='maybe':\n",
        "    print('We a special discount today...')\n",
        "    n= input('Enter the number of slices you want to have: ')#Execute Conditionally \n",
        "    print('Bringing you', n, 'slices of Pizza')\n",
        "else:\n",
        "    print('Ok, come again later!') \n",
        "print('Have a Good Day!') #Execute Unconditionally "
      ],
      "execution_count": null,
      "outputs": []
    },
    {
      "cell_type": "markdown",
      "metadata": {
        "id": "SUkp6nCVT_2_"
      },
      "source": [
        "## Nested If\n",
        "\n",
        "if loop containted inside if loop. \n",
        "\n",
        "Note the Indentations"
      ]
    },
    {
      "cell_type": "code",
      "metadata": {
        "id": "OdSJ5uzPT_3B"
      },
      "source": [
        "x=input('Do you want to have some Pizza? (yes/no) ') # Code block 1\n",
        "if x=='yes':\n",
        "    n= input('Enter the number of slices you want to have: ') # Code block 2 \n",
        "    y=input('Do you want to have a cold drink also? (yes/no) ')\n",
        "    if y=='yes':\n",
        "        flav= input('Enter the flavour (cola/orange): ')  # Code block 3\n",
        "        print('Bringing you', n, 'slices of Pizza and (', flav, ') cold drink')\n",
        "    else:\n",
        "        print('Bringing you', n, 'slices of Pizza')\n",
        "else:\n",
        "    print('Ok, come again later !') #Execute Conditionally \n",
        "print('Have a Good Day!') #Execute Unconditionally "
      ],
      "execution_count": null,
      "outputs": []
    },
    {
      "cell_type": "markdown",
      "metadata": {
        "id": "v-LMSu66T_3L"
      },
      "source": [
        "# Practice Problem"
      ]
    },
    {
      "cell_type": "markdown",
      "metadata": {
        "id": "f580yv8f8Jdo"
      },
      "source": [
        "1. Given a number, display if it is positive-even, negative-even, positive-odd, negative-odd or zero."
      ]
    },
    {
      "cell_type": "code",
      "metadata": {
        "id": "cBQHHiZPT_3Z"
      },
      "source": [
        "var1 = int(input('Enter an integer : '))"
      ],
      "execution_count": null,
      "outputs": []
    },
    {
      "cell_type": "markdown",
      "metadata": {
        "id": "Ipl9JjU08eVe"
      },
      "source": [
        "2. Ask user to enter two numbers. Then ask user the arithmetic operation to be performed (add/sub/mul/div). Perform the operation and display the result."
      ]
    },
    {
      "cell_type": "code",
      "metadata": {
        "id": "0Rw_GA0y888Y"
      },
      "source": [
        ""
      ],
      "execution_count": null,
      "outputs": []
    }
  ]
}