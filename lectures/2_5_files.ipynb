{
  "nbformat": 4,
  "nbformat_minor": 0,
  "metadata": {
    "kernelspec": {
      "display_name": "Python 3",
      "language": "python",
      "name": "python3"
    },
    "language_info": {
      "codemirror_mode": {
        "name": "ipython",
        "version": 3
      },
      "file_extension": ".py",
      "mimetype": "text/x-python",
      "name": "python",
      "nbconvert_exporter": "python",
      "pygments_lexer": "ipython3",
      "version": "3.6.4"
    },
    "colab": {
      "name": "2_5_files.ipynb",
      "provenance": [],
      "collapsed_sections": [],
      "include_colab_link": true
    }
  },
  "cells": [
    {
      "cell_type": "markdown",
      "metadata": {
        "id": "view-in-github",
        "colab_type": "text"
      },
      "source": [
        "<a href=\"https://colab.research.google.com/github/RinkiGupta/RG_ECE319/blob/main/lectures/2_5_files.ipynb\" target=\"_parent\"><img src=\"https://colab.research.google.com/assets/colab-badge.svg\" alt=\"Open In Colab\"/></a>"
      ]
    },
    {
      "cell_type": "markdown",
      "metadata": {
        "id": "JNmdkjytZ1_3"
      },
      "source": [
        "# File Operations"
      ]
    },
    {
      "cell_type": "markdown",
      "metadata": {
        "id": "AtTfUj86mQf5"
      },
      "source": [
        "## File Writing\n",
        "\n",
        "'w' Writing Mode. \n",
        "\n",
        "Create file if it does not exsits or Overwrites an exsisting file   "
      ]
    },
    {
      "cell_type": "markdown",
      "metadata": {
        "id": "bJ5cPxQImTGp"
      },
      "source": [
        "### File writing using open-close"
      ]
    },
    {
      "cell_type": "code",
      "metadata": {
        "id": "ELvJAS5UZ1_5"
      },
      "source": [
        "f= open(\"testfile1.txt\",'w') # f is file object \n",
        "f.write(\"My first sentence\") #include \\n at end to introduce new line in file\n",
        "f.write(\"My second sentence\")\n",
        "f.close() # Close the file"
      ],
      "execution_count": 1,
      "outputs": []
    },
    {
      "cell_type": "markdown",
      "metadata": {
        "id": "L6s_ADUnchxT"
      },
      "source": [
        "### File writing using with\n",
        "\n",
        "It automatically closes the file when the loop is exited."
      ]
    },
    {
      "cell_type": "code",
      "metadata": {
        "id": "nfUD62jsc9UD"
      },
      "source": [
        "list1 = ['Apple','Banana']\n",
        "with open('testfile1.txt', 'w') as f1: #overwrites existing file\n",
        "    for item in list1:\n",
        "        f1.write(item+'\\n') # write a string to a file"
      ],
      "execution_count": 4,
      "outputs": []
    },
    {
      "cell_type": "code",
      "metadata": {
        "id": "l_8xhfgphQb-"
      },
      "source": [
        "# use print to print to a file\n",
        "list2 = ['Apple','Banana','Grapes']\n",
        "with open('testfile1.txt', 'w') as f1:\n",
        "    for item in list2:\n",
        "        print(item, file=f1) # another way of writing to a file"
      ],
      "execution_count": 5,
      "outputs": []
    },
    {
      "cell_type": "markdown",
      "metadata": {
        "id": "CRlCT71IZ1_9"
      },
      "source": [
        "## File Reading\n",
        "\n",
        "'r' Reading Mode. \n",
        "\n",
        "Gives FileNotFoundError if the file does not exist. "
      ]
    },
    {
      "cell_type": "markdown",
      "metadata": {
        "id": "9fVjhA4_mXbF"
      },
      "source": [
        "### File reading using open-close"
      ]
    },
    {
      "cell_type": "code",
      "metadata": {
        "id": "S0bjxQlHbt8e",
        "colab": {
          "base_uri": "https://localhost:8080/"
        },
        "outputId": "372e72ca-f302-450f-acb8-6fbda80cd7b7"
      },
      "source": [
        "f= open(r\"testfile1.txt\",'r') # f is file object \n",
        "line=f.read() #read the ENTIRE contents of a file\n",
        "f.close() # Close the file\n",
        "print(line)"
      ],
      "execution_count": 6,
      "outputs": [
        {
          "output_type": "stream",
          "text": [
            "Apple\n",
            "Banana\n",
            "Grapes\n",
            "\n"
          ],
          "name": "stdout"
        }
      ]
    },
    {
      "cell_type": "code",
      "metadata": {
        "id": "_AU4wBORdivS",
        "colab": {
          "base_uri": "https://localhost:8080/",
          "height": 195
        },
        "outputId": "f5b5a9f9-799a-42fa-dab0-8621a98634b9"
      },
      "source": [
        "#%% Check what happens if a non-existing file is opened in reading mode\n",
        "f=open(\"file_test.txt\",'r')\n",
        "f.close()"
      ],
      "execution_count": null,
      "outputs": [
        {
          "output_type": "error",
          "ename": "FileNotFoundError",
          "evalue": "ignored",
          "traceback": [
            "\u001b[0;31m---------------------------------------------------------------------------\u001b[0m",
            "\u001b[0;31mFileNotFoundError\u001b[0m                         Traceback (most recent call last)",
            "\u001b[0;32m<ipython-input-7-e64947ae85c2>\u001b[0m in \u001b[0;36m<module>\u001b[0;34m()\u001b[0m\n\u001b[1;32m      1\u001b[0m \u001b[0;31m#%% Check what happens if a non-existing file is opened in reading mode\u001b[0m\u001b[0;34m\u001b[0m\u001b[0;34m\u001b[0m\u001b[0;34m\u001b[0m\u001b[0m\n\u001b[0;32m----> 2\u001b[0;31m \u001b[0mf\u001b[0m\u001b[0;34m=\u001b[0m\u001b[0mopen\u001b[0m\u001b[0;34m(\u001b[0m\u001b[0;34m\"file_test.txt\"\u001b[0m\u001b[0;34m,\u001b[0m\u001b[0;34m'r'\u001b[0m\u001b[0;34m)\u001b[0m\u001b[0;34m\u001b[0m\u001b[0;34m\u001b[0m\u001b[0m\n\u001b[0m\u001b[1;32m      3\u001b[0m \u001b[0mf\u001b[0m\u001b[0;34m.\u001b[0m\u001b[0mclose\u001b[0m\u001b[0;34m(\u001b[0m\u001b[0;34m)\u001b[0m\u001b[0;34m\u001b[0m\u001b[0;34m\u001b[0m\u001b[0m\n",
            "\u001b[0;31mFileNotFoundError\u001b[0m: [Errno 2] No such file or directory: 'file_test.txt'"
          ]
        }
      ]
    },
    {
      "cell_type": "markdown",
      "metadata": {
        "id": "DEB62HaVic9d"
      },
      "source": [
        "### File reading using with\n",
        "\n",
        "It automatically closes the file when the loop is exited."
      ]
    },
    {
      "cell_type": "code",
      "metadata": {
        "id": "fvp8hBJgdsoz",
        "colab": {
          "base_uri": "https://localhost:8080/"
        },
        "outputId": "30799521-56b8-42d4-838f-1b0b050c2218"
      },
      "source": [
        "with open('testfile1.txt') as f: # f is a file object\n",
        "    for line in f: # Read each line as text\n",
        "        print(line)\n",
        "        #print(line.strip()) # Remove trailing newline character"
      ],
      "execution_count": 7,
      "outputs": [
        {
          "output_type": "stream",
          "text": [
            "Apple\n",
            "\n",
            "Banana\n",
            "\n",
            "Grapes\n",
            "\n"
          ],
          "name": "stdout"
        }
      ]
    },
    {
      "cell_type": "code",
      "metadata": {
        "id": "-yHBXPDKpCqW"
      },
      "source": [
        "# Read from a file, write to another file \r\n",
        "with open('testfile1.txt', 'r') as f1:\r\n",
        "    with open('testfile2.txt', 'w') as f2:\r\n",
        "        for line in f1: # read from file testfile1.txt\r\n",
        "            line = line.strip().upper()\r\n",
        "            print(line, file=f2) # append to file upper_testfile1.txt"
      ],
      "execution_count": 8,
      "outputs": []
    },
    {
      "cell_type": "code",
      "metadata": {
        "id": "1_f1WTgCoGLn"
      },
      "source": [
        "# zip(): Read from multiple iterables simultaneously\r\n",
        "list1 = ['Apple','Cauliflower', 'Tomato', 'Lemon', 'Capsicum']\r\n",
        "list2 = ['Fruit','Vegetable','Red','Yellow','Green']\r\n",
        "print(list(zip(list1,list2)))"
      ],
      "execution_count": null,
      "outputs": []
    },
    {
      "cell_type": "code",
      "metadata": {
        "id": "XvvgZDOqZ1_-"
      },
      "source": [
        "# Read from two files, write to third file\n",
        "with open('testfile1.txt', 'r') as f1:\n",
        "    with open('testfile2.txt', 'r') as f2:\n",
        "        with open('testfile3.txt', 'w') as f3:\n",
        "            for line1,line2 in zip(f1,f2): #read from two files simultaneously\n",
        "                line1 = line1.strip()\n",
        "                line2 = line2.strip()\n",
        "                print(line1+\" => \"+line2, file=f3)"
      ],
      "execution_count": 10,
      "outputs": []
    },
    {
      "cell_type": "markdown",
      "metadata": {
        "id": "OWAUuVken7_t"
      },
      "source": [
        "## File Appending\r\n",
        "\r\n",
        "'a' Append Mode. Append data to existing file. Create file, if not found"
      ]
    },
    {
      "cell_type": "code",
      "metadata": {
        "id": "VjC8-8fyoFb-"
      },
      "source": [
        "# Read from a file, then append to another file \r\n",
        "lst3 = ['Orange','Cherry']\r\n",
        "with open('testfile3.txt', 'a') as f3:\r\n",
        "      for item in lst3: # read from file testfile1.txt\r\n",
        "          print(item, file=f3) # append to file upper_testfile1.txt"
      ],
      "execution_count": 11,
      "outputs": []
    },
    {
      "cell_type": "code",
      "metadata": {
        "id": "9rMXyVZvn-Jm"
      },
      "source": [
        "f1=open('testfile3.txt','a')\r\n",
        "f1.write('Berry\\n')\r\n",
        "print('Guava',file=f1)\r\n",
        "f1.close()"
      ],
      "execution_count": 12,
      "outputs": []
    },
    {
      "cell_type": "markdown",
      "metadata": {
        "id": "rFNIDB9Qn5Wx"
      },
      "source": [
        "# More on file methods"
      ]
    },
    {
      "cell_type": "code",
      "metadata": {
        "colab": {
          "base_uri": "https://localhost:8080/"
        },
        "id": "Wqp_5l7btEGQ",
        "outputId": "280b41a2-dcd8-4262-897a-df600aefed61"
      },
      "source": [
        "#read the ENTIRE contents of a file in a String\r\n",
        "f= open(r\"testfile1.txt\",'r') # f is file object \r\n",
        "line=f.read() \r\n",
        "f.close() # Close the file\r\n",
        "print(line)"
      ],
      "execution_count": 14,
      "outputs": [
        {
          "output_type": "stream",
          "text": [
            "Apple\n",
            "Banana\n",
            "Grapes\n",
            "\n"
          ],
          "name": "stdout"
        }
      ]
    },
    {
      "cell_type": "code",
      "metadata": {
        "id": "0dyOSzZgkFre",
        "colab": {
          "base_uri": "https://localhost:8080/"
        },
        "outputId": "818fa947-14ed-44b7-aad3-f5646793f501"
      },
      "source": [
        "#%% read line-by-line \n",
        "f= open(\"testfile1.txt\",'r') # f is file object \n",
        "line1=f.readline() #read line-by-line, use .strip() to exclude \\n at end\n",
        "line2=f.readline() \n",
        "f.close()\n",
        "print(line1)\n",
        "print(line2)"
      ],
      "execution_count": 15,
      "outputs": [
        {
          "output_type": "stream",
          "text": [
            "Apple\n",
            "\n",
            "Banana\n",
            "\n"
          ],
          "name": "stdout"
        }
      ]
    },
    {
      "cell_type": "code",
      "metadata": {
        "id": "hF4uzydndTuS",
        "colab": {
          "base_uri": "https://localhost:8080/"
        },
        "outputId": "c6ca3b4f-8c74-485f-a3b7-810c740b99c7"
      },
      "source": [
        "# Read lines of a file into a list \n",
        "f= open(\"testfile1.txt\",'r') # f is file object \n",
        "all_lines=f.readlines()\n",
        "f.close()\n",
        "print(all_lines)"
      ],
      "execution_count": 16,
      "outputs": [
        {
          "output_type": "stream",
          "text": [
            "['Apple\\n', 'Banana\\n', 'Grapes\\n']\n"
          ],
          "name": "stdout"
        }
      ]
    },
    {
      "cell_type": "markdown",
      "metadata": {
        "id": "ER4tQrPwmEg3"
      },
      "source": [
        "### tell() and seek()"
      ]
    },
    {
      "cell_type": "code",
      "metadata": {
        "id": "qvPUoDOVdXfQ",
        "colab": {
          "base_uri": "https://localhost:8080/"
        },
        "outputId": "0b28c7b2-0d5d-470d-b2bb-29aafa8804b1"
      },
      "source": [
        "#%% f.tell() \n",
        "# returns an integer giving the file object's current position in the file\n",
        "f= open(\"testfile1.txt\",'r') # f is file object \n",
        "print(f.tell())\n",
        "line1=f.readline() # read line-by-line, use .strip() to exclude \\n at end\n",
        "print(f.tell())\n",
        "line2=f.readline() \n",
        "print(f.tell())\n",
        "f.close()"
      ],
      "execution_count": 17,
      "outputs": [
        {
          "output_type": "stream",
          "text": [
            "0\n",
            "6\n",
            "13\n"
          ],
          "name": "stdout"
        }
      ]
    },
    {
      "cell_type": "code",
      "metadata": {
        "id": "KdysqvMGdbLk",
        "colab": {
          "base_uri": "https://localhost:8080/"
        },
        "outputId": "e026e72d-b563-4d36-cabd-8e98ca891302"
      },
      "source": [
        "# f.seek(new_position) \n",
        "#change the file object's position\n",
        "f= open(\"testfile1.txt\",'r') # f is file object \n",
        "print(f.tell())\n",
        "line1=f.readline() #read line-by-line, use .strip() to exclude \\n at end\n",
        "print(f.tell())\n",
        "f.seek(0) \n",
        "line2=f.readline() \n",
        "print(f.tell())\n",
        "f.close()\n",
        "print(line1)\n",
        "print(line2)"
      ],
      "execution_count": 18,
      "outputs": [
        {
          "output_type": "stream",
          "text": [
            "0\n",
            "6\n",
            "6\n",
            "Apple\n",
            "\n",
            "Apple\n",
            "\n"
          ],
          "name": "stdout"
        }
      ]
    },
    {
      "cell_type": "code",
      "metadata": {
        "id": "ghSpkQMBeBEl",
        "colab": {
          "base_uri": "https://localhost:8080/"
        },
        "outputId": "62081394-f84e-450f-8ad8-2c3775a899e6"
      },
      "source": [
        "#%% Guess the outputs line1, line2, line3\n",
        "f= open(\"testfile1.txt\",'r') # f is file object \n",
        "print(f.tell())\n",
        "line1=f.readline() \n",
        "print(f.tell())\n",
        "f.seek(0)\n",
        "line2=f.readline() \n",
        "print(f.tell())\n",
        "line3=f.readline() \n",
        "print(f.tell())\n",
        "f.close()"
      ],
      "execution_count": 19,
      "outputs": [
        {
          "output_type": "stream",
          "text": [
            "0\n",
            "6\n",
            "6\n",
            "13\n"
          ],
          "name": "stdout"
        }
      ]
    }
  ]
}