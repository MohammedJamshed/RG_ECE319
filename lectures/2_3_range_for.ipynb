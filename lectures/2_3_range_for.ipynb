{
  "nbformat": 4,
  "nbformat_minor": 0,
  "metadata": {
    "kernelspec": {
      "display_name": "Python 3",
      "language": "python",
      "name": "python3"
    },
    "language_info": {
      "codemirror_mode": {
        "name": "ipython",
        "version": 3
      },
      "file_extension": ".py",
      "mimetype": "text/x-python",
      "name": "python",
      "nbconvert_exporter": "python",
      "pygments_lexer": "ipython3",
      "version": "3.7.3"
    },
    "colab": {
      "name": "2_3_range_for.ipynb",
      "provenance": [],
      "collapsed_sections": [],
      "include_colab_link": true
    }
  },
  "cells": [
    {
      "cell_type": "markdown",
      "metadata": {
        "id": "view-in-github",
        "colab_type": "text"
      },
      "source": [
        "<a href=\"https://colab.research.google.com/github/RinkiGupta/RG_ECE319/blob/main/lectures/2_3_range_for.ipynb\" target=\"_parent\"><img src=\"https://colab.research.google.com/assets/colab-badge.svg\" alt=\"Open In Colab\"/></a>"
      ]
    },
    {
      "cell_type": "markdown",
      "metadata": {
        "id": "zJbStcBaqzMS"
      },
      "source": [
        "# range() \n",
        "The range() function returns a sequence of numbers."
      ]
    },
    {
      "cell_type": "code",
      "metadata": {
        "id": "pzGqHYUNqzMT"
      },
      "source": [
        "print('list(range(5)) ', list(range(5)) ) # 0 to 4 in steps of 1\n",
        "print('list(range(2,5)) ', list(range(2,5)) ) # 2 to 4 in steps of 1\n",
        "print('list(range(1,5,2)) ', list(range(1,5,2)) ) # 1 to 3 in steps of 2"
      ],
      "execution_count": null,
      "outputs": []
    },
    {
      "cell_type": "code",
      "metadata": {
        "id": "kAg0gAYPAXYX"
      },
      "source": [
        "# Guess the output\r\n",
        "print(list(range(5,1,-1)))"
      ],
      "execution_count": null,
      "outputs": []
    },
    {
      "cell_type": "code",
      "metadata": {
        "id": "KN4bhWB7Bc1i"
      },
      "source": [
        "# Guess the output\r\n",
        "print(list(range(1,5,0.5)))"
      ],
      "execution_count": null,
      "outputs": []
    },
    {
      "cell_type": "code",
      "metadata": {
        "id": "XH8WDMyTBe-v"
      },
      "source": [
        "# Guess the output\r\n",
        "print(list(range(0.5,5.5)))"
      ],
      "execution_count": null,
      "outputs": []
    },
    {
      "cell_type": "markdown",
      "metadata": {
        "id": "0m6wOz-9qzMa"
      },
      "source": [
        "# for loop\n",
        "When we have a **sequence of things to loop through**, we can construct a definite loop using a for statement and automate repetition. Code block inside for-loop is indicated by identation.\n",
        "\n",
        "There is an iterable object such as a list, tuple, a string or range().\n",
        "There is also a variable to store the successive values from the sequence in the loop.\n"
      ]
    },
    {
      "cell_type": "code",
      "metadata": {
        "id": "mFSqBbyCqzMf"
      },
      "source": [
        "friends = ['Alan', 'Ben', 'Sally', 'Rose']\n",
        "# use range and indexing in for-loop to say hello to each friend \n",
        "for idx in range(len(friends)):\n",
        "  print(idx,'Hello',friends[idx])\n",
        "print('Please join my Party!')"
      ],
      "execution_count": null,
      "outputs": []
    },
    {
      "cell_type": "code",
      "metadata": {
        "id": "-rm1SXGGqzMb"
      },
      "source": [
        "friends = ['Alan', 'Ben', 'Sally', 'Rose']\n",
        "# use for-loop to say hello to each friend\n",
        "for friend in friends:\n",
        "  print('Hello',friend)\n",
        "print('Please join my Party!')"
      ],
      "execution_count": null,
      "outputs": []
    },
    {
      "cell_type": "markdown",
      "metadata": {
        "id": "M0EtW7RxqzMn"
      },
      "source": [
        "## Single Line For Loop"
      ]
    },
    {
      "cell_type": "code",
      "metadata": {
        "id": "GaARQsFRqzMn"
      },
      "source": [
        "friends = ['Alan', 'Ben', 'Sally', 'Rose']\n",
        "hellos = ['Hello '+friend for friend in friends]\n",
        "print(hellos)"
      ],
      "execution_count": null,
      "outputs": []
    },
    {
      "cell_type": "markdown",
      "metadata": {
        "id": "Tz94u661qzMj"
      },
      "source": [
        "## Nested for-loop"
      ]
    },
    {
      "cell_type": "code",
      "metadata": {
        "id": "lRFHMviOqzMk"
      },
      "source": [
        "friends = ['Alan', 'Ben', 'Sally', 'Rose']\n",
        "for idx in range(len(friends)):\n",
        "    print('Hello ', friends[idx],'. Please join my party!\\t', end=' ')\n",
        "    for friend in list(friends[:idx])+list(friends[idx+1:]): # list + list => Concatenate lists\n",
        "        print(friend,end=' ')\n",
        "    print('are also coming.')\n",
        "print('Done!')"
      ],
      "execution_count": null,
      "outputs": []
    }
  ]
}